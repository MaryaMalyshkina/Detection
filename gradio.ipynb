{
  "cells": [
    {
      "cell_type": "markdown",
      "metadata": {
        "id": "4w14T-HRHer7"
      },
      "source": [
        "Импорт библиотек."
      ]
    },
    {
      "cell_type": "code",
      "execution_count": 1,
      "metadata": {
        "id": "JHDvZZ_gHcqc"
      },
      "outputs": [],
      "source": [
        "import pandas as pd\n",
        "import numpy as np\n",
        "import gdown\n",
        "import os\n",
        "import cv2\n",
        "import matplotlib.pyplot as plt\n",
        "from PIL import Image\n",
        "from matplotlib.figure import Figure\n",
        "import gradio as gr"
      ]
    },
    {
      "cell_type": "code",
      "execution_count": 2,
      "metadata": {
        "id": "Xe7y-LQIEI4H"
      },
      "outputs": [],
      "source": [
        "%pip install ultralytics -q"
      ]
    },
    {
      "cell_type": "code",
      "execution_count": 3,
      "metadata": {
        "id": "7OD3J6rPEpps"
      },
      "outputs": [],
      "source": [
        "from ultralytics import YOLO"
      ]
    },
    {
      "cell_type": "markdown",
      "metadata": {
        "id": "7Ay5dCcnHkVj"
      },
      "source": [
        "Загружаем лучшую модель (файл best.pt нужно загрузить в сессионное хранилище в корневой каталог /content, по ссылке из интернета модель не разворачивается)."
      ]
    },
    {
      "cell_type": "code",
      "execution_count": 4,
      "metadata": {
        "id": "uR8-msLg44Hw"
      },
      "outputs": [],
      "source": [
        "# загружаем веса лучшей модели\n",
        "model = YOLO('/content/best.pt')"
      ]
    },
    {
      "cell_type": "markdown",
      "metadata": {
        "id": "PSkbPDYLJM_6"
      },
      "source": [
        "Функция draw() для отрисовки результата предсказания:\n",
        "\n",
        "*   запускает model для детекции объектов на изображении,\n",
        "*   рисует bounding boxes (рамки вокруг обнаруженных объектов),\n",
        "*   возвращает обработанное изображение и список строк с обнаруженными объектами : классы (двери/ окна) и их координаты.\n",
        "\n"
      ]
    },
    {
      "cell_type": "code",
      "execution_count": 5,
      "metadata": {
        "id": "ZldL7BasmV5q"
      },
      "outputs": [],
      "source": [
        "#Функция для отрисовки результата предсказания\n",
        "\n",
        "def draw(image_for_drawing):\n",
        "  #detections = []\n",
        "  results = model.predict(image_for_drawing, conf=0.5)\n",
        "  #Перебираем результаты\n",
        "  for result in results:\n",
        "    # Получаем bounding boxes в формате [x1, y1, x2, y2, conf, class_id]\n",
        "       boxes = result.boxes.xyxy.cpu().numpy()  # Координаты в пикселях\n",
        "       confidences = result.boxes.conf.cpu().numpy()  # Уверенность\n",
        "       class_ids = result.boxes.cls.cpu().numpy().astype(int)  # ID классов\n",
        "\n",
        "       door_boxes = boxes[class_ids == 1]  # Массив координат дверей\n",
        "       windows_boxes = boxes[class_ids == 4] # Массив координат окон\n",
        "       door_confs = confidences[class_ids == 1]  # Уверенность для дверей\n",
        "       windows_confs = confidences[class_ids == 4]  # Уверенность для окон\n",
        "       detections = []\n",
        "       # Выводим координаты и добавляем надписи\n",
        "       for box, conf in zip(door_boxes, door_confs):\n",
        "          x1, y1, x2, y2 = box\n",
        "          detections.append(f\"Дверь: x1={x1:.0f}, y1={y1:.0f}, x2={x2:.0f}, y2={y2:.0f}, confidence={conf:.2f}\")\n",
        "          cv2.rectangle(image_for_drawing, (int(x1), int(y1)), (int(x2), int(y2)), (255, 0, 0), 2)\n",
        "\n",
        "          # Добавляем текст\n",
        "          text = f\"Door: {conf:.2f}\"\n",
        "          cv2.putText(image_for_drawing, text, (int(x1), int(y1) - 10),\n",
        "                   cv2.FONT_HERSHEY_SIMPLEX, 0.4, (255, 0, 0), 1)\n",
        "\n",
        "       for box, conf in zip(windows_boxes, windows_confs):\n",
        "          x1, y1, x2, y2 = box\n",
        "          detections.append(f\"Окно: x1={x1:.0f}, y1={y1:.0f}, x2={x2:.0f}, y2={y2:.0f}, confidence={conf:.2f}\")\n",
        "          cv2.rectangle(image_for_drawing, (int(x1), int(y1)), (int(x2), int(y2)), (0, 255, 0), 2)\n",
        "\n",
        "          # Добавляем текст\n",
        "          text = f\"window: {conf:.2f}\"\n",
        "          cv2.putText(image_for_drawing, text, (int(x1), int(y1) - 10),\n",
        "                   cv2.FONT_HERSHEY_SIMPLEX, 0.4, (0, 255, 0), 1)\n",
        "  return image_for_drawing, \"\\n\".join(detections)\n"
      ]
    },
    {
      "cell_type": "markdown",
      "metadata": {
        "id": "XTSjqyCNIlzb"
      },
      "source": [
        "Создаем веб-интерфейс для интерактивной демонстрации модели детекции объектов ( дверей и окон) с помощью библиотеки Gradio. На вход будет подаваться изображение  (в формате NumPy-массива), при отправке изображения в интерфейсе будет вызываться функция draw(), которая выведет изображение с нарисованными bounding boxes, а в текстовом окне - классы объектов и координаты."
      ]
    },
    {
      "cell_type": "code",
      "execution_count": 6,
      "metadata": {
        "colab": {
          "base_uri": "https://localhost:8080/",
          "height": 704
        },
        "id": "S91WVt43EWKP",
        "outputId": "8ecb3762-2a5d-48ae-f4a7-3aab722afac4"
      },
      "outputs": [
        {
          "output_type": "stream",
          "name": "stdout",
          "text": [
            "Colab notebook detected. This cell will run indefinitely so that you can see errors and logs. To turn off, set debug=False in launch().\n",
            "* Running on public URL: https://0d81c072b5ed5eac87.gradio.live\n",
            "\n",
            "This share link expires in 1 week. For free permanent hosting and GPU upgrades, run `gradio deploy` from the terminal in the working directory to deploy to Hugging Face Spaces (https://huggingface.co/spaces)\n"
          ]
        },
        {
          "output_type": "display_data",
          "data": {
            "text/plain": [
              "<IPython.core.display.HTML object>"
            ],
            "text/html": [
              "<div><iframe src=\"https://0d81c072b5ed5eac87.gradio.live\" width=\"100%\" height=\"500\" allow=\"autoplay; camera; microphone; clipboard-read; clipboard-write;\" frameborder=\"0\" allowfullscreen></iframe></div>"
            ]
          },
          "metadata": {}
        },
        {
          "output_type": "stream",
          "name": "stdout",
          "text": [
            "\n",
            "0: 640x640 7 doors, 1 perimeter, 1 stairs, 1 window, 360.4ms\n",
            "Speed: 37.9ms preprocess, 360.4ms inference, 31.7ms postprocess per image at shape (1, 3, 640, 640)\n",
            "Keyboard interruption in main thread... closing server.\n",
            "Killing tunnel 127.0.0.1:7860 <> https://0d81c072b5ed5eac87.gradio.live\n"
          ]
        },
        {
          "output_type": "execute_result",
          "data": {
            "text/plain": []
          },
          "metadata": {},
          "execution_count": 6
        }
      ],
      "source": [
        "demo = gr.Interface(\n",
        "    fn=draw,\n",
        "    inputs=[gr.Image(type=\"numpy\")],\n",
        "    outputs=[gr.Image(label=\"Результат детекции\"), gr.Textbox(label=\"Обнаруженные объекты\", lines=20)],\n",
        "    title=\"Детектирование дверей и окон\"\n",
        ")\n",
        "\n",
        "demo.launch(debug=True,share=True)"
      ]
    }
  ],
  "metadata": {
    "colab": {
      "provenance": []
    },
    "kernelspec": {
      "display_name": "Python 3",
      "name": "python3"
    },
    "language_info": {
      "name": "python"
    }
  },
  "nbformat": 4,
  "nbformat_minor": 0
}